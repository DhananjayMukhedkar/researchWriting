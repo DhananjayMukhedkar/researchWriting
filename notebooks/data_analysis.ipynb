{
  "nbformat": 4,
  "nbformat_minor": 0,
  "metadata": {
    "kernelspec": {
      "display_name": "Python 3",
      "language": "python",
      "name": "python3"
    },
    "language_info": {
      "codemirror_mode": {
        "name": "ipython",
        "version": 3
      },
      "file_extension": ".py",
      "mimetype": "text/x-python",
      "name": "python",
      "nbconvert_exporter": "python",
      "pygments_lexer": "ipython3",
      "version": "3.7.3"
    },
    "colab": {
      "name": "data_analysis.ipynb",
      "provenance": [],
      "collapsed_sections": []
    }
  },
  "cells": [
    {
      "cell_type": "code",
      "metadata": {
        "id": "0nLkylnzU6IQ",
        "colab_type": "code",
        "outputId": "f6c9e16d-46be-45f7-e408-3fed42b19a0e",
        "colab": {
          "base_uri": "https://localhost:8080/",
          "height": 34
        }
      },
      "source": [
        "!git clone https://gitlab.tubit.tu-berlin.de/ywkim09/GAN_pjt_images\n"
      ],
      "execution_count": 0,
      "outputs": [
        {
          "output_type": "stream",
          "text": [
            "fatal: destination path 'GAN_pjt_images' already exists and is not an empty directory.\n"
          ],
          "name": "stdout"
        }
      ]
    },
    {
      "cell_type": "code",
      "metadata": {
        "id": "X6gHVuehNavP",
        "colab_type": "code",
        "outputId": "a183d6c1-4991-41fc-c352-70c3e3b4124d",
        "colab": {
          "base_uri": "https://localhost:8080/",
          "height": 374
        }
      },
      "source": [
        "pip install python-resize-image"
      ],
      "execution_count": 0,
      "outputs": [
        {
          "output_type": "stream",
          "text": [
            "Collecting python-resize-image\n",
            "  Downloading https://files.pythonhosted.org/packages/bc/89/008481c95551992e1a77503eba490b75fd17c0a98e33dd4dc39e0b99e5e8/python_resize_image-1.1.19-py2.py3-none-any.whl\n",
            "Requirement already satisfied: requests>=2.19.1 in /usr/local/lib/python3.6/dist-packages (from python-resize-image) (2.21.0)\n",
            "Collecting Pillow>=5.1.0\n",
            "\u001b[?25l  Downloading https://files.pythonhosted.org/packages/10/5c/0e94e689de2476c4c5e644a3bd223a1c1b9e2bdb7c510191750be74fa786/Pillow-6.2.1-cp36-cp36m-manylinux1_x86_64.whl (2.1MB)\n",
            "\u001b[K     |████████████████████████████████| 2.1MB 5.0MB/s \n",
            "\u001b[?25hRequirement already satisfied: idna<2.9,>=2.5 in /usr/local/lib/python3.6/dist-packages (from requests>=2.19.1->python-resize-image) (2.8)\n",
            "Requirement already satisfied: chardet<3.1.0,>=3.0.2 in /usr/local/lib/python3.6/dist-packages (from requests>=2.19.1->python-resize-image) (3.0.4)\n",
            "Requirement already satisfied: certifi>=2017.4.17 in /usr/local/lib/python3.6/dist-packages (from requests>=2.19.1->python-resize-image) (2019.9.11)\n",
            "Requirement already satisfied: urllib3<1.25,>=1.21.1 in /usr/local/lib/python3.6/dist-packages (from requests>=2.19.1->python-resize-image) (1.24.3)\n",
            "\u001b[31mERROR: albumentations 0.1.12 has requirement imgaug<0.2.7,>=0.2.5, but you'll have imgaug 0.2.9 which is incompatible.\u001b[0m\n",
            "Installing collected packages: Pillow, python-resize-image\n",
            "  Found existing installation: Pillow 4.3.0\n",
            "    Uninstalling Pillow-4.3.0:\n",
            "      Successfully uninstalled Pillow-4.3.0\n",
            "Successfully installed Pillow-6.2.1 python-resize-image-1.1.19\n"
          ],
          "name": "stdout"
        },
        {
          "output_type": "display_data",
          "data": {
            "application/vnd.colab-display-data+json": {
              "pip_warning": {
                "packages": [
                  "PIL"
                ]
              }
            }
          },
          "metadata": {
            "tags": []
          }
        }
      ]
    },
    {
      "cell_type": "code",
      "metadata": {
        "id": "3NlTmtqlTTGC",
        "colab_type": "code",
        "colab": {}
      },
      "source": [
        "# load and display an image with Matplotlib\n",
        "from matplotlib import image\n",
        "from matplotlib import pyplot\n",
        "from PIL import Image\n",
        "from resizeimage import resizeimage\n",
        "import numpy as np\n",
        "\n",
        "\n",
        "#set paths\n",
        "pathTrainMalignant='/content/GAN_pjt_images/train/malignant/dataset/'   \n",
        "pathTrainBening='/content/GAN_pjt_images/train/benign/dataset/' \n",
        "pathTestMal='/content/GAN_pjt_images/test/malignant/dataset/'   \n",
        "pathTestBenign='/content/GAN_pjt_images/test/benign/dataset/'    \n",
        "\n",
        "root_path = '/content/'\n",
        "filMixMalin ='malign1' #features list from GAN data\n",
        "fileMixBenign='benign1' #features list from GAN data\n"
      ],
      "execution_count": 0,
      "outputs": []
    },
    {
      "cell_type": "code",
      "metadata": {
        "id": "olqsH8szTTGP",
        "colab_type": "code",
        "outputId": "d7b8c8b1-46fe-4b40-9335-33383a7c6027",
        "colab": {
          "base_uri": "https://localhost:8080/",
          "height": 51
        }
      },
      "source": [
        "import os  \n",
        "  \n",
        " ###for training malignant\n",
        "folder = os.fsencode(pathTrainMalignant)\n",
        "print(folder)\n",
        "features= []\n",
        "list1=os.listdir(pathTrainMalignant)\n",
        "\n",
        "training=[]\n",
        "\n",
        "for i,file in enumerate(list1) :\n",
        "    # load the image\n",
        "    img = Image.open(pathTrainMalignant+file)    \n",
        "    # resize image and ignore original aspect ratio\n",
        "    img_resized = img.resize((32,32))\n",
        "    imgarr = np.array(img_resized)\n",
        "    a=imgarr.flatten()\n",
        "    #print(a.shape)\n",
        "    training.append(a)\n",
        "\n",
        "\n",
        "###for training bening\n",
        "folder = os.fsencode(pathTrainBening)\n",
        "print(folder)\n",
        "features= []\n",
        "list1=os.listdir(pathTrainBening)\n",
        "\n",
        "training_b=[]\n",
        "\n",
        "for i,file in enumerate(list1) :\n",
        "    # load the image\n",
        "    img = Image.open(pathTrainBening+file)    \n",
        "    # resize image and ignore original aspect ratio\n",
        "    img_resized = img.resize((32,32))\n",
        "    imgarr = np.array(img_resized)\n",
        "    a=imgarr.flatten()\n",
        "    #print(a.shape)\n",
        "    training_b.append(a)"
      ],
      "execution_count": 0,
      "outputs": [
        {
          "output_type": "stream",
          "text": [
            "b'/content/GAN_pjt_images/train/malignant/dataset/'\n",
            "b'/content/GAN_pjt_images/train/benign/dataset/'\n"
          ],
          "name": "stdout"
        }
      ]
    },
    {
      "cell_type": "code",
      "metadata": {
        "id": "wrLQx149TTGV",
        "colab_type": "code",
        "outputId": "422e4416-05b6-4c97-83d9-e7d91abe33ba",
        "colab": {
          "base_uri": "https://localhost:8080/",
          "height": 51
        }
      },
      "source": [
        "\n",
        "###for test malignant\n",
        "folder = os.fsencode(pathTestMal)\n",
        "print(folder)\n",
        "features= []\n",
        "list1=os.listdir(pathTestMal)\n",
        "\n",
        "test_m=[]\n",
        "\n",
        "for i,file in enumerate(list1) :\n",
        "    # load the image\n",
        "    img = Image.open(pathTestMal+file)    \n",
        "    # resize image and ignore original aspect ratio\n",
        "    img_resized = img.resize((32,32))\n",
        "    imgarr = np.array(img_resized)\n",
        "    a=imgarr.flatten()\n",
        "    #print(a.shape)\n",
        "    test_m.append(a)\n",
        "    \n",
        "    \n",
        "    \n",
        "###for test bening\n",
        "folder = os.fsencode(pathTestBenign)\n",
        "print(folder)\n",
        "features= []\n",
        "list1=os.listdir(pathTestBenign)\n",
        "\n",
        "test_b=[]\n",
        "\n",
        "for i,file in enumerate(list1) :\n",
        "    # load the image\n",
        "    img = Image.open(pathTestBenign+file)    \n",
        "    # resize image and ignore original aspect ratio\n",
        "    img_resized = img.resize((32,32))\n",
        "    imgarr = np.array(img_resized)\n",
        "    a=imgarr.flatten()\n",
        "    #print(a.shape)\n",
        "    test_b.append(a)    \n",
        "    "
      ],
      "execution_count": 0,
      "outputs": [
        {
          "output_type": "stream",
          "text": [
            "b'/content/GAN_pjt_images/test/malignant/dataset/'\n",
            "b'/content/GAN_pjt_images/test/benign/dataset/'\n"
          ],
          "name": "stdout"
        }
      ]
    },
    {
      "cell_type": "code",
      "metadata": {
        "id": "_lJ8h46jTTGY",
        "colab_type": "code",
        "outputId": "7d352c18-0925-4ea6-fdbe-9983ff5f7297",
        "colab": {
          "base_uri": "https://localhost:8080/",
          "height": 85
        }
      },
      "source": [
        "import numpy as np\n",
        "\n",
        "train=np.vstack((training,training_b))\n",
        "y_train=np.concatenate((np.zeros(len(training)) ,np.ones(len(training_b) ) ))\n",
        "np.save('x_train',train)\n",
        "np.save('y_train',y_train)\n",
        "\n",
        "print(train.shape)\n",
        "\n",
        "Xtest=np.vstack((test_m,test_b))\n",
        "Ytest=np.concatenate((np.zeros(len(test_m)) ,np.ones(len(test_b) ) ))\n",
        "\n",
        "print(Xtest.shape)\n",
        "print(Ytest.shape)\n",
        "np.save('x_test',Xtest)\n",
        "np.save('y_test',Ytest)\n",
        "\n",
        "print(y_train)\n",
        "\n",
        "test_size={}\n",
        "test_size['Malign_test']=len(test_m)\n",
        "test_size['Benign_test']=len(test_b)\n",
        "\n",
        "train_size={}\n",
        "train_size['Malign_train']=len(training)\n",
        "train_size['Benign_train']=len(training_b)\n"
      ],
      "execution_count": 0,
      "outputs": [
        {
          "output_type": "stream",
          "text": [
            "(2637, 3072)\n",
            "(660, 3072)\n",
            "(660,)\n",
            "[0. 0. 0. ... 1. 1. 1.]\n"
          ],
          "name": "stdout"
        }
      ]
    },
    {
      "cell_type": "code",
      "metadata": {
        "id": "ZUgMC2t8TTGl",
        "colab_type": "code",
        "colab": {}
      },
      "source": [
        "#read featuers list file\n",
        "\n",
        "import pickle\n",
        "\n",
        "\n",
        "with open( root_path+filMixMalin, \"rb\") as fp: \n",
        "    # Unpickling\n",
        "    maling_list = pickle.load(fp)\n",
        "    \n",
        "\n",
        "with open( root_path+fileMixBenign, \"rb\") as fp: \n",
        "    # Unpickling\n",
        "    benign_list = pickle.load(fp)\n",
        "    "
      ],
      "execution_count": 0,
      "outputs": []
    },
    {
      "cell_type": "code",
      "metadata": {
        "id": "42w0VHoBTTGm",
        "colab_type": "code",
        "colab": {}
      },
      "source": [
        ""
      ],
      "execution_count": 0,
      "outputs": []
    },
    {
      "cell_type": "code",
      "metadata": {
        "id": "QHpn-QFaTTGo",
        "colab_type": "code",
        "outputId": "5a476b1a-a0ac-4bef-e39e-8c445a866e23",
        "colab": {
          "base_uri": "https://localhost:8080/",
          "height": 51
        }
      },
      "source": [
        "\n",
        "\n",
        "malign_flat=[]\n",
        "benign_flat=[]\n",
        "for i,file in enumerate(maling_list) :\n",
        "    \n",
        "    imgarr = np.array(file)\n",
        "    a=imgarr.flatten()\n",
        "    \n",
        "    malign_flat.append(a)\n",
        "    \n",
        "\n",
        "for i,file in enumerate(benign_list) :\n",
        "  \n",
        "    imgarr = np.array(file)\n",
        "    a=imgarr.flatten()\n",
        "    \n",
        "    benign_flat.append(a)\n",
        "    \n",
        "print(len(malign_flat))\n",
        "print(len(benign_flat))\n",
        "\n",
        "gan={}\n",
        "gan['Maling_GAN']=len(malign_flat)\n",
        "gan['Benign_GAN']=len(benign_flat)"
      ],
      "execution_count": 0,
      "outputs": [
        {
          "output_type": "stream",
          "text": [
            "120\n",
            "120\n"
          ],
          "name": "stdout"
        }
      ]
    },
    {
      "cell_type": "code",
      "metadata": {
        "id": "BtZC_E2sTTGq",
        "colab_type": "code",
        "outputId": "c7e6c90d-879f-4120-8ece-79324448f328",
        "colab": {
          "base_uri": "https://localhost:8080/",
          "height": 119
        }
      },
      "source": [
        "training_maling_mix=[]\n",
        "training_b_mix=[]\n",
        "\n",
        "training_maling_mix=training+malign_flat\n",
        "training_b_mix=training_b + benign_flat\n",
        "\n",
        "print(len(training_maling_mix))\n",
        "print(len(training_b_mix))\n",
        "\n",
        "print((training_maling_mix[0].shape))\n",
        "print((training_b_mix[0].shape))\n",
        "\n",
        "print(len(training))\n",
        "print(len(training_b))"
      ],
      "execution_count": 0,
      "outputs": [
        {
          "output_type": "stream",
          "text": [
            "1317\n",
            "1560\n",
            "(3072,)\n",
            "(3072,)\n",
            "1197\n",
            "1440\n"
          ],
          "name": "stdout"
        }
      ]
    },
    {
      "cell_type": "code",
      "metadata": {
        "scrolled": true,
        "id": "VCkbofIDTTGr",
        "colab_type": "code",
        "outputId": "9881c826-1ece-4f69-9c9a-6c0b5c2aaecf",
        "colab": {
          "base_uri": "https://localhost:8080/",
          "height": 85
        }
      },
      "source": [
        "m = np.asarray(training_maling_mix)\n",
        "b = np.asarray(training_b_mix)\n",
        "print(b.shape)\n",
        "print(m.shape)\n",
        "x_train_mix = np.vstack((training_maling_mix+training_b_mix))\n",
        "print(x_train_mix.shape)\n",
        "\n",
        "y_train_mix=np.concatenate((np.zeros(len(training_maling_mix)) ,np.ones(len(training_b_mix) ) ))\n",
        "print(y_train_mix.shape)\n",
        "np.save('x_train_mix',x_train_mix)\n",
        "np.save('y_train_mix',y_train_mix)\n",
        "\n",
        "mix={}\n",
        "mix['Malign_combined']=len(training_maling_mix)\n",
        "mix['Benign_combined']=len(training_b_mix)"
      ],
      "execution_count": 0,
      "outputs": [
        {
          "output_type": "stream",
          "text": [
            "(1560, 3072)\n",
            "(1317, 3072)\n",
            "(2877, 3072)\n",
            "(2877,)\n"
          ],
          "name": "stdout"
        }
      ]
    },
    {
      "cell_type": "code",
      "metadata": {
        "id": "6druTjygNZBX",
        "colab_type": "code",
        "outputId": "2318bfcc-11d0-4424-b4db-1dd64bf063ed",
        "colab": {
          "base_uri": "https://localhost:8080/",
          "height": 451
        }
      },
      "source": [
        "#plot trainin data \n",
        "pyplot.rcParams.update({'font.size': 13})\n",
        "fig, ax = pyplot.subplots()\n",
        "fig.set_size_inches(14, 6)\n",
        "t=train_size.keys()\n",
        "m=mix.keys()\n",
        "\n",
        "ax.bar(test_size.keys(), test_size.values(),width = 0.3,align='center',color='g',label='Test set' )\n",
        "ax.bar(t, train_size.values(),width = 0.3,align='center',color='b',label='Training set' )\n",
        "\n",
        "ax.bar(gan.keys(), gan.values(),width = 0.3,align='center',color='k',label='GAN iamges set' )\n",
        "ax.bar(m, mix.values(),width = 0.3,align='center',color='y',label='Combined set' )\n",
        "pyplot.ylabel('Number of images')\n",
        "pyplot.xlabel('Data sets ')\n",
        "pyplot.title('Dataset distributions ')\n",
        "pyplot.legend()\n",
        "pyplot.xticks(rotation=20)\n",
        "pyplot.grid(True)\n",
        "pyplot.show()\n"
      ],
      "execution_count": 0,
      "outputs": [
        {
          "output_type": "display_data",
          "data": {
            "image/png": "[encoded data removed]",
            "text/plain": [
              "<Figure size 1008x432 with 1 Axes>"
            ]
          },
          "metadata": {
            "tags": []
          }
        }
      ]
    },
    {
      "cell_type": "code",
      "metadata": {
        "id": "UJUpkpE8RG4R",
        "colab_type": "code",
        "outputId": "181cb46d-f604-426a-d1d7-9048d2eda724",
        "colab": {
          "base_uri": "https://localhost:8080/",
          "height": 296
        }
      },
      "source": [
        "fig, ax = pyplot.subplots()\n",
        "fig.set_size_inches(10, 4)\n",
        "\n",
        "pyplot.ylabel('Number of files')\n",
        "pyplot.xlabel('Instruments')\n",
        "pyplot.title('Training data set ')\n",
        "pyplot.legend()\n",
        "pyplot.show()\n"
      ],
      "execution_count": 0,
      "outputs": [
        {
          "output_type": "display_data",
          "data": {
            "image/png": "[encoded data removed]",
            "text/plain": [
              "<Figure size 720x288 with 1 Axes>"
            ]
          },
          "metadata": {
            "tags": []
          }
        }
      ]
    },
    {
      "cell_type": "code",
      "metadata": {
        "id": "5pwKZWh3TTGt",
        "colab_type": "code",
        "colab": {}
      },
      "source": [
        ""
      ],
      "execution_count": 0,
      "outputs": []
    }
  ]
}